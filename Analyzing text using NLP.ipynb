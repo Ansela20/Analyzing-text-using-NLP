{
 "cells": [
  {
   "cell_type": "code",
   "execution_count": 1,
   "id": "56fbffd3",
   "metadata": {},
   "outputs": [],
   "source": [
    "import nltk"
   ]
  },
  {
   "cell_type": "code",
   "execution_count": 2,
   "id": "0d06a3e5",
   "metadata": {},
   "outputs": [],
   "source": [
    "text =\"Economics is a social science with stakes in many other fields, including political science, geography, mathematics, sociology, psychology, engineering, law, medicine and business. The central quest of economics is to determine the most logical and effective use of resources to meet private and social goals. Production and employment, investment and savings, health, money and the banking system, government policies on taxation and spending, international trade, industrial organization and regulation, urbanization, environmental issues and legal matters (such as the design and enforcement of property rights), are just a sampling of the concerns at the heart of the science of economics.\""
   ]
  },
  {
   "cell_type": "code",
   "execution_count": 3,
   "id": "98e28195",
   "metadata": {},
   "outputs": [
    {
     "name": "stderr",
     "output_type": "stream",
     "text": [
      "[nltk_data] Downloading package punkt to\n",
      "[nltk_data]     C:\\Users\\Ansela\\AppData\\Roaming\\nltk_data...\n",
      "[nltk_data]   Package punkt is already up-to-date!\n"
     ]
    },
    {
     "data": {
      "text/plain": [
       "True"
      ]
     },
     "execution_count": 3,
     "metadata": {},
     "output_type": "execute_result"
    }
   ],
   "source": [
    "nltk.download('punkt')   #importing sentence tokenizer"
   ]
  },
  {
   "cell_type": "code",
   "execution_count": 4,
   "id": "721fe4b1",
   "metadata": {},
   "outputs": [
    {
     "name": "stdout",
     "output_type": "stream",
     "text": [
      "Sentence tokenizing the text: \n",
      "\n",
      "['Economics is a social science with stakes in many other fields, including political science, geography, mathematics, sociology, psychology, engineering, law, medicine and business.', 'The central quest of economics is to determine the most logical and effective use of resources to meet private and social goals.', 'Production and employment, investment and savings, health, money and the banking system, government policies on taxation and spending, international trade, industrial organization and regulation, urbanization, environmental issues and legal matters (such as the design and enforcement of property rights), are just a sampling of the concerns at the heart of the science of economics.']\n"
     ]
    }
   ],
   "source": [
    "#Sentence Tokenizer- Process of breaking down paragraphs into sentences.\n",
    "from nltk.tokenize import sent_tokenize\n",
    "sent_tk = sent_tokenize(text)\n",
    "print(\"Sentence tokenizing the text: \\n\")\n",
    "print(sent_tk)"
   ]
  },
  {
   "cell_type": "code",
   "execution_count": 5,
   "id": "fcd21a72",
   "metadata": {},
   "outputs": [
    {
     "name": "stdout",
     "output_type": "stream",
     "text": [
      "Word tokenizing the text: \n",
      "\n",
      "['Economics', 'is', 'a', 'social', 'science', 'with', 'stakes', 'in', 'many', 'other', 'fields', ',', 'including', 'political', 'science', ',', 'geography', ',', 'mathematics', ',', 'sociology', ',', 'psychology', ',', 'engineering', ',', 'law', ',', 'medicine', 'and', 'business', '.', 'The', 'central', 'quest', 'of', 'economics', 'is', 'to', 'determine', 'the', 'most', 'logical', 'and', 'effective', 'use', 'of', 'resources', 'to', 'meet', 'private', 'and', 'social', 'goals', '.', 'Production', 'and', 'employment', ',', 'investment', 'and', 'savings', ',', 'health', ',', 'money', 'and', 'the', 'banking', 'system', ',', 'government', 'policies', 'on', 'taxation', 'and', 'spending', ',', 'international', 'trade', ',', 'industrial', 'organization', 'and', 'regulation', ',', 'urbanization', ',', 'environmental', 'issues', 'and', 'legal', 'matters', '(', 'such', 'as', 'the', 'design', 'and', 'enforcement', 'of', 'property', 'rights', ')', ',', 'are', 'just', 'a', 'sampling', 'of', 'the', 'concerns', 'at', 'the', 'heart', 'of', 'the', 'science', 'of', 'economics', '.']\n"
     ]
    }
   ],
   "source": [
    "#Word Tokenizer- - Process of breaking down paragraphs,sentences into an array of words.\n",
    "from nltk.tokenize import word_tokenize\n",
    "word_tk = word_tokenize(text)\n",
    "print(\"Word tokenizing the text: \\n\")\n",
    "print(word_tk)"
   ]
  },
  {
   "cell_type": "code",
   "execution_count": 6,
   "id": "367956ae",
   "metadata": {},
   "outputs": [
    {
     "name": "stderr",
     "output_type": "stream",
     "text": [
      "[nltk_data] Downloading package stopwords to\n",
      "[nltk_data]     C:\\Users\\Ansela\\AppData\\Roaming\\nltk_data...\n",
      "[nltk_data]   Package stopwords is already up-to-date!\n"
     ]
    },
    {
     "data": {
      "text/plain": [
       "True"
      ]
     },
     "execution_count": 6,
     "metadata": {},
     "output_type": "execute_result"
    }
   ],
   "source": [
    "nltk.download('stopwords')"
   ]
  },
  {
   "cell_type": "code",
   "execution_count": 7,
   "id": "24e87012",
   "metadata": {},
   "outputs": [
    {
     "name": "stdout",
     "output_type": "stream",
     "text": [
      "Stop words in English language are: \n",
      "\n",
      "{'ourselves', 'o', 'we', 'hers', 'where', 'against', 'did', 'why', 'didn', \"you're\", 've', \"you've\", \"hadn't\", 'myself', 'so', \"needn't\", 'had', 'few', 'no', 'he', 'until', 'a', 'here', 'their', 'when', 'm', 'itself', 'between', 'me', 'own', 'by', 'about', 'as', 'it', 'them', 'being', 'not', 'weren', 'don', 'her', 'because', 'been', 'are', \"isn't\", 'which', 'before', 'of', 'any', 'only', 'she', 'but', 'doing', 'such', \"won't\", 't', 's', \"you'll\", 'more', 'was', \"you'd\", 'both', 'be', 'most', 'i', \"aren't\", 'how', 'shouldn', 'they', 'won', \"she's\", 'am', 'than', 'have', 'into', 'were', 'in', 'ain', 'mustn', 'off', 'what', 'does', 'under', 'other', 'each', 'hasn', 'down', 'shan', 'over', 'those', 'aren', \"wouldn't\", 'wasn', \"wasn't\", 'with', \"didn't\", 'mightn', 'is', 'up', 'just', 'then', 'yourself', 'for', 'to', 'out', \"weren't\", 'if', 'or', 'will', 'needn', \"mustn't\", 'theirs', 'the', \"doesn't\", \"mightn't\", 'do', 'you', \"couldn't\", 'haven', 'yourselves', 'some', 'himself', 'yours', 'through', 'on', 'once', 'should', 'your', 'all', 'too', \"shouldn't\", 'couldn', 'hadn', 'above', 'after', 'themselves', \"don't\", 'that', 'ma', 'its', 'from', 'at', 'same', \"it's\", \"shan't\", 'further', 'now', 'an', 'can', 'these', 'has', 'again', \"that'll\", \"hasn't\", 're', 'y', 'there', 'll', 'isn', 'herself', 'and', 'his', 'below', 'd', 'our', 'having', 'my', \"should've\", 'whom', 'wouldn', 'very', 'who', 'during', 'doesn', \"haven't\", 'nor', 'ours', 'this', 'him', 'while'}\n"
     ]
    }
   ],
   "source": [
    "#Removing stop words- words that add little to little meaning to a body of text at large.\n",
    "\n",
    "from nltk.corpus import stopwords\n",
    "sw = set(stopwords.words(\"english\")) #English stopwords\n",
    "print(\"Stop words in English language are: \\n\")\n",
    "print(sw)"
   ]
  },
  {
   "cell_type": "code",
   "execution_count": 8,
   "id": "892b2d22",
   "metadata": {},
   "outputs": [
    {
     "name": "stdout",
     "output_type": "stream",
     "text": [
      "The text after removing stop words \n",
      "\n",
      "['Economics', 'social', 'science', 'stakes', 'many', 'fields', ',', 'including', 'political', 'science', ',', 'geography', ',', 'mathematics', ',', 'sociology', ',', 'psychology', ',', 'engineering', ',', 'law', ',', 'medicine', 'business', '.', 'The', 'central', 'quest', 'economics', 'determine', 'logical', 'effective', 'use', 'resources', 'meet', 'private', 'social', 'goals', '.', 'Production', 'employment', ',', 'investment', 'savings', ',', 'health', ',', 'money', 'banking', 'system', ',', 'government', 'policies', 'taxation', 'spending', ',', 'international', 'trade', ',', 'industrial', 'organization', 'regulation', ',', 'urbanization', ',', 'environmental', 'issues', 'legal', 'matters', '(', 'design', 'enforcement', 'property', 'rights', ')', ',', 'sampling', 'concerns', 'heart', 'science', 'economics', '.']\n"
     ]
    }
   ],
   "source": [
    "filtered_words = [w for w in word_tk if not w in sw]\n",
    "print(\"The text after removing stop words \\n\")\n",
    "print(filtered_words)"
   ]
  },
  {
   "cell_type": "code",
   "execution_count": 9,
   "id": "2e0bcbf7",
   "metadata": {},
   "outputs": [],
   "source": [
    "#Stemming- process of reducing the size of corpus by converting words to their root words(stem word that may or may not have meaning when taken alone)\n",
    "from nltk.stem import PorterStemmer\n",
    "from nltk.tokenize import sent_tokenize, word_tokenize\n",
    "port_stem = PorterStemmer()"
   ]
  },
  {
   "cell_type": "code",
   "execution_count": 10,
   "id": "6e65124d",
   "metadata": {},
   "outputs": [
    {
     "name": "stdout",
     "output_type": "stream",
     "text": [
      "Filtered Sentence: \n",
      " ['Economics', 'social', 'science', 'stakes', 'many', 'fields', ',', 'including', 'political', 'science', ',', 'geography', ',', 'mathematics', ',', 'sociology', ',', 'psychology', ',', 'engineering', ',', 'law', ',', 'medicine', 'business', '.', 'The', 'central', 'quest', 'economics', 'determine', 'logical', 'effective', 'use', 'resources', 'meet', 'private', 'social', 'goals', '.', 'Production', 'employment', ',', 'investment', 'savings', ',', 'health', ',', 'money', 'banking', 'system', ',', 'government', 'policies', 'taxation', 'spending', ',', 'international', 'trade', ',', 'industrial', 'organization', 'regulation', ',', 'urbanization', ',', 'environmental', 'issues', 'legal', 'matters', '(', 'design', 'enforcement', 'property', 'rights', ')', ',', 'sampling', 'concerns', 'heart', 'science', 'economics', '.'] \n",
      "\n",
      "Stemmed Sentence: \n",
      " ['econom', 'social', 'scienc', 'stake', 'mani', 'field', ',', 'includ', 'polit', 'scienc', ',', 'geographi', ',', 'mathemat', ',', 'sociolog', ',', 'psycholog', ',', 'engin', ',', 'law', ',', 'medicin', 'busi', '.', 'the', 'central', 'quest', 'econom', 'determin', 'logic', 'effect', 'use', 'resourc', 'meet', 'privat', 'social', 'goal', '.', 'product', 'employ', ',', 'invest', 'save', ',', 'health', ',', 'money', 'bank', 'system', ',', 'govern', 'polici', 'taxat', 'spend', ',', 'intern', 'trade', ',', 'industri', 'organ', 'regul', ',', 'urban', ',', 'environment', 'issu', 'legal', 'matter', '(', 'design', 'enforc', 'properti', 'right', ')', ',', 'sampl', 'concern', 'heart', 'scienc', 'econom', '.']\n"
     ]
    }
   ],
   "source": [
    "stemmed_words = []\n",
    "for w in filtered_words:\n",
    "    stemmed_words.append(port_stem.stem(w))\n",
    "    \n",
    "print(\"Filtered Sentence: \\n\", filtered_words, \"\\n\")\n",
    "print(\"Stemmed Sentence: \\n\", stemmed_words)"
   ]
  },
  {
   "cell_type": "code",
   "execution_count": 11,
   "id": "4d35b300",
   "metadata": {},
   "outputs": [
    {
     "name": "stderr",
     "output_type": "stream",
     "text": [
      "[nltk_data] Downloading package wordnet to\n",
      "[nltk_data]     C:\\Users\\Ansela\\AppData\\Roaming\\nltk_data...\n",
      "[nltk_data]   Package wordnet is already up-to-date!\n"
     ]
    },
    {
     "data": {
      "text/plain": [
       "True"
      ]
     },
     "execution_count": 11,
     "metadata": {},
     "output_type": "execute_result"
    }
   ],
   "source": [
    "# Lemmatizing- process of reducing a word to its base word(stem word that has meaning when taken alone)\n",
    "nltk.download('wordnet')"
   ]
  },
  {
   "cell_type": "code",
   "execution_count": 12,
   "id": "43b9d598",
   "metadata": {},
   "outputs": [
    {
     "name": "stdout",
     "output_type": "stream",
     "text": [
      "['Economics', 'social', 'science', 'stake', 'many', 'field', ',', 'including', 'political', 'science', ',', 'geography', ',', 'mathematics', ',', 'sociology', ',', 'psychology', ',', 'engineering', ',', 'law', ',', 'medicine', 'business', '.', 'The', 'central', 'quest', 'economics', 'determine', 'logical', 'effective', 'use', 'resource', 'meet', 'private', 'social', 'goal', '.', 'Production', 'employment', ',', 'investment', 'saving', ',', 'health', ',', 'money', 'banking', 'system', ',', 'government', 'policy', 'taxation', 'spending', ',', 'international', 'trade', ',', 'industrial', 'organization', 'regulation', ',', 'urbanization', ',', 'environmental', 'issue', 'legal', 'matter', '(', 'design', 'enforcement', 'property', 'right', ')', ',', 'sampling', 'concern', 'heart', 'science', 'economics', '.']\n"
     ]
    }
   ],
   "source": [
    "from nltk.stem.wordnet import WordNetLemmatizer\n",
    "lem = WordNetLemmatizer()\n",
    "\n",
    "from nltk.stem.porter import PorterStemmer\n",
    "stem = PorterStemmer()\n",
    "\n",
    "lemm_words =[]\n",
    "for i in range(len(filtered_words)):\n",
    "    lemm_words.append(lem.lemmatize(filtered_words[i]))\n",
    "print(lemm_words)"
   ]
  },
  {
   "cell_type": "code",
   "execution_count": 13,
   "id": "c527b0be",
   "metadata": {},
   "outputs": [
    {
     "name": "stderr",
     "output_type": "stream",
     "text": [
      "[nltk_data] Downloading package averaged_perceptron_tagger to\n",
      "[nltk_data]     C:\\Users\\Ansela\\AppData\\Roaming\\nltk_data...\n",
      "[nltk_data]   Package averaged_perceptron_tagger is already up-to-\n",
      "[nltk_data]       date!\n"
     ]
    },
    {
     "data": {
      "text/plain": [
       "True"
      ]
     },
     "execution_count": 13,
     "metadata": {},
     "output_type": "execute_result"
    }
   ],
   "source": [
    "#Parts of Speech Tagging\n",
    "nltk.download('averaged_perceptron_tagger')"
   ]
  },
  {
   "cell_type": "code",
   "execution_count": 14,
   "id": "169011a7",
   "metadata": {},
   "outputs": [
    {
     "name": "stdout",
     "output_type": "stream",
     "text": [
      "[('Economics', 'NNS'), ('is', 'VBZ'), ('a', 'DT'), ('social', 'JJ'), ('science', 'NN'), ('with', 'IN'), ('stakes', 'NNS'), ('in', 'IN'), ('many', 'JJ'), ('other', 'JJ'), ('fields', 'NNS'), (',', ','), ('including', 'VBG'), ('political', 'JJ'), ('science', 'NN'), (',', ','), ('geography', 'NN'), (',', ','), ('mathematics', 'NNS'), (',', ','), ('sociology', 'NN'), (',', ','), ('psychology', 'NN'), (',', ','), ('engineering', 'NN'), (',', ','), ('law', 'NN'), (',', ','), ('medicine', 'NN'), ('and', 'CC'), ('business', 'NN'), ('.', '.'), ('The', 'DT'), ('central', 'JJ'), ('quest', 'NN'), ('of', 'IN'), ('economics', 'NNS'), ('is', 'VBZ'), ('to', 'TO'), ('determine', 'VB'), ('the', 'DT'), ('most', 'RBS'), ('logical', 'JJ'), ('and', 'CC'), ('effective', 'JJ'), ('use', 'NN'), ('of', 'IN'), ('resources', 'NNS'), ('to', 'TO'), ('meet', 'VB'), ('private', 'JJ'), ('and', 'CC'), ('social', 'JJ'), ('goals', 'NNS'), ('.', '.'), ('Production', 'NN'), ('and', 'CC'), ('employment', 'NN'), (',', ','), ('investment', 'NN'), ('and', 'CC'), ('savings', 'NNS'), (',', ','), ('health', 'NN'), (',', ','), ('money', 'NN'), ('and', 'CC'), ('the', 'DT'), ('banking', 'NN'), ('system', 'NN'), (',', ','), ('government', 'NN'), ('policies', 'NNS'), ('on', 'IN'), ('taxation', 'NN'), ('and', 'CC'), ('spending', 'NN'), (',', ','), ('international', 'JJ'), ('trade', 'NN'), (',', ','), ('industrial', 'JJ'), ('organization', 'NN'), ('and', 'CC'), ('regulation', 'NN'), (',', ','), ('urbanization', 'NN'), (',', ','), ('environmental', 'JJ'), ('issues', 'NNS'), ('and', 'CC'), ('legal', 'JJ'), ('matters', 'NNS'), ('(', '('), ('such', 'JJ'), ('as', 'IN'), ('the', 'DT'), ('design', 'NN'), ('and', 'CC'), ('enforcement', 'NN'), ('of', 'IN'), ('property', 'NN'), ('rights', 'NNS'), (')', ')'), (',', ','), ('are', 'VBP'), ('just', 'RB'), ('a', 'DT'), ('sampling', 'NN'), ('of', 'IN'), ('the', 'DT'), ('concerns', 'NNS'), ('at', 'IN'), ('the', 'DT'), ('heart', 'NN'), ('of', 'IN'), ('the', 'DT'), ('science', 'NN'), ('of', 'IN'), ('economics', 'NNS'), ('.', '.')]\n"
     ]
    }
   ],
   "source": [
    "from nltk import pos_tag\n",
    "pos_tagged_words = pos_tag(word_tk)\n",
    "print(pos_tagged_words)"
   ]
  },
  {
   "cell_type": "code",
   "execution_count": 15,
   "id": "78c05486",
   "metadata": {},
   "outputs": [
    {
     "name": "stdout",
     "output_type": "stream",
     "text": [
      "<FreqDist with 77 samples and 121 outcomes>\n"
     ]
    }
   ],
   "source": [
    "#Frequency Distribution Plots- It counts and plots the frequency of words in a given text.\n",
    "from nltk.probability import FreqDist\n",
    "fd = FreqDist(word_tk)\n",
    "print(fd)"
   ]
  },
  {
   "cell_type": "code",
   "execution_count": 16,
   "id": "77ab027d",
   "metadata": {},
   "outputs": [
    {
     "data": {
      "image/png": "[encoded data removed]",
      "text/plain": [
       "<Figure size 432x288 with 1 Axes>"
      ]
     },
     "metadata": {
      "needs_background": "light"
     },
     "output_type": "display_data"
    }
   ],
   "source": [
    "import matplotlib.pyplot as plt\n",
    "fd.plot(30, cumulative = False) # 30 elements\n",
    "plt.show()                      # most frequently occuring words"
   ]
  },
  {
   "cell_type": "code",
   "execution_count": 17,
   "id": "bbeb5297",
   "metadata": {},
   "outputs": [
    {
     "name": "stdout",
     "output_type": "stream",
     "text": [
      "<FreqDist with 34 samples and 693 outcomes>\n"
     ]
    },
    {
     "data": {
      "image/png": "[encoded data removed]",
      "text/plain": [
       "<Figure size 432x288 with 1 Axes>"
      ]
     },
     "metadata": {
      "needs_background": "light"
     },
     "output_type": "display_data"
    },
    {
     "data": {
      "text/plain": [
       "<AxesSubplot:xlabel='Samples', ylabel='Counts'>"
      ]
     },
     "execution_count": 17,
     "metadata": {},
     "output_type": "execute_result"
    }
   ],
   "source": [
    "fd_alpha = FreqDist(text)\n",
    "print(fd_alpha)\n",
    "fd_alpha.plot(30, cumulative = False)"
   ]
  },
  {
   "cell_type": "code",
   "execution_count": null,
   "id": "ef4df412",
   "metadata": {},
   "outputs": [],
   "source": []
  }
 ],
 "metadata": {
  "kernelspec": {
   "display_name": "Python 3 (ipykernel)",
   "language": "python",
   "name": "python3"
  },
  "language_info": {
   "codemirror_mode": {
    "name": "ipython",
    "version": 3
   },
   "file_extension": ".py",
   "mimetype": "text/x-python",
   "name": "python",
   "nbconvert_exporter": "python",
   "pygments_lexer": "ipython3",
   "version": "3.9.7"
  }
 },
 "nbformat": 4,
 "nbformat_minor": 5
}
